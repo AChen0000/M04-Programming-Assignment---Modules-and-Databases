{
 "cells": [
  {
   "cell_type": "code",
   "execution_count": 1,
   "id": "6e60ff7b-f142-4b7d-8928-de04311e741a",
   "metadata": {},
   "outputs": [],
   "source": [
    "#11.1\n",
    "def hours():\n",
    "    print('Open 9 to 5 daily')\n"
   ]
  },
  {
   "cell_type": "code",
   "execution_count": null,
   "id": "d642240e-f4cd-4552-9ecf-08d6d2044d91",
   "metadata": {},
   "outputs": [],
   "source": [
    "#11.2\n",
    ">>> import zoo as menagerie  \n",
    ">>> menagerie.hours()  \n",
    "Open 9-5 daily\n"
   ]
  },
  {
   "cell_type": "code",
   "execution_count": null,
   "id": "dbc94cee-b587-4b04-9383-a4cb42f624c7",
   "metadata": {},
   "outputs": [],
   "source": [
    "#16.8\n",
    "from sqlalchemy import create_engine, select\n",
    "\n",
    "engine = create_engine(\"sqlite:///books.db\")\n",
    "connection = engine.connect()\n",
    "book = engine.table_names()[0]\n",
    "query = select([book.c.title]).order_by(book.c.title)\n",
    "result = connection.execute(query)\n",
    "for row in result:\n",
    "    print(row[0])\n",
    "\n",
    "# Close the database connection\n",
    "connection.close()\n"
   ]
  }
 ],
 "metadata": {
  "kernelspec": {
   "display_name": "anaconda-panel-2023.05-py310",
   "language": "python",
   "name": "conda-env-anaconda-panel-2023.05-py310-py"
  },
  "language_info": {
   "codemirror_mode": {
    "name": "ipython",
    "version": 3
   },
   "file_extension": ".py",
   "mimetype": "text/x-python",
   "name": "python",
   "nbconvert_exporter": "python",
   "pygments_lexer": "ipython3",
   "version": "3.11.4"
  }
 },
 "nbformat": 4,
 "nbformat_minor": 5
}
